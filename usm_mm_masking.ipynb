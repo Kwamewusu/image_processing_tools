{
 "cells": [
  {
   "cell_type": "markdown",
   "metadata": {},
   "source": [
    "# Melding Unsharp Masking with Morphological Operators\n",
    "Author: Nana Owusu\n",
    "\n",
    "Purpose: To generate a mask of fMRI images of NIfTI format by\n",
    "way of unsharp masking and mathematical morphology operators.\n",
    "This is an attempt at generatinig a better mask"
   ]
  },
  {
   "cell_type": "code",
   "execution_count": null,
   "metadata": {},
   "outputs": [],
   "source": [
    "# Module for opening the image\n",
    "# import matplotlib.image as mpimg\n",
    "# from PIL import Image\n",
    "# from pydicom import dcmread\n",
    "# from operator import itemgetter\n",
    "from nibabel import load, Nifti1Image, save\n",
    "from glob import glob\n",
    "from math import floor\n",
    "\n",
    "# Module for showing the image\n",
    "import matplotlib.pyplot as plt\n",
    "\n",
    "# Module for image morphology operators\n",
    "import numpy as np \n",
    "# from skimage.measure import regionprops\n",
    "from scipy.ndimage import binary_erosion, binary_dilation, grey_erosion, \\\n",
    "generate_binary_structure, binary_fill_holes, label, sum, convolve1d\n",
    "from scipy.signal.windows import general_gaussian"
   ]
  },
  {
   "cell_type": "markdown",
   "metadata": {},
   "source": [
    "## Custom Functions"
   ]
  },
  {
   "cell_type": "code",
   "execution_count": null,
   "metadata": {},
   "outputs": [],
   "source": [
    "def multi_slice_display(input_vol):\n",
    "    \"\"\"Display all the slices of a single\n",
    "    timepoint\"\"\"\n",
    "    \n",
    "    _, _, o = input_vol.shape\n",
    "    \n",
    "    # Instantiate a Figure object with one row\n",
    "    # and multiple columns of axes.\n",
    "    fig, axes = plt.subplots(1, o, figsize=[28, 35])\n",
    "    fig.subplots_adjust(wspace=0.125)\n",
    "    \n",
    "    # Fill the figure with each slice\n",
    "    for i,ax in enumerate(axes.flat):\n",
    "        ax.imshow(np.rot90(input_vol[:,:,i]), cmap='gray')\n",
    "        ax.set_axis_off()\n",
    "        \n",
    "    plt.show"
   ]
  },
  {
   "cell_type": "code",
   "execution_count": null,
   "metadata": {},
   "outputs": [],
   "source": [
    "class struct_el(object):\n",
    "    \n",
    "    def __init__(self):\n",
    "        self.shape = \\\n",
    "        {'square': self.square,\n",
    "         'cube': self.cube,\n",
    "         'circle': self.circle,\n",
    "         'sphere': self.sphere,\n",
    "         '4neighbor': self.neighbor4,\n",
    "         '8neighbor': self.neighbor8\n",
    "        }\n",
    "        \n",
    "    def neighbor8(self, d):\n",
    "        struct = np.zeros((5, 5), dtype='uint8')\n",
    "        struct[1:4,:] = 1\n",
    "        struct[:,1:4] = 1\n",
    "        if d == 0:\n",
    "            return struct.astype(np.bool)\n",
    "        elif d is not 0:                \n",
    "            buffer = [struct.copy() for _ in range(d)]\n",
    "            new_struct = np.stack(buffer, axis=0)\n",
    "            return new_struct.astype(np.bool)\n",
    "        \n",
    "    def neighbor4(self, d):\n",
    "        struct = np.zeros((3, 3), dtype='uint8')\n",
    "        struct[:,1] = 1\n",
    "        struct[1,:] = 1\n",
    "        if d == 0:\n",
    "            return struct.astype(np.bool)\n",
    "        elif d is not 0:                \n",
    "            buffer = [struct.copy() for _ in range(d)]\n",
    "            new_struct = np.stack(buffer, axis=0)\n",
    "            return new_struct.astype(np.bool)\n",
    "        \n",
    "    def square(self, w):\n",
    "        struct = np.zeros((w, w), dtype='uint8')\n",
    "        x, y = np.indices((w, w))\n",
    "        mask = (x - w) * (y - w) <= n**2\n",
    "        struct[mask] = 1\n",
    "        return struct.astype(np.bool)\n",
    "\n",
    "    def cube(self, w):\n",
    "        struct = np.zeros((2 * w + 1, 2 * w + 1, 2 * w + 1))\n",
    "        x, y, z = np.indices((2 * w + 1, 2 * w + 1, 2 * w + 1))\n",
    "        mask = (x - w) *  (y - w) * (z - w) <= w**3\n",
    "        struct[mask] = 1\n",
    "        return struct.astype(np.bool)\n",
    "\n",
    "    def circle(self, r):\n",
    "        struct = np.zeros((2 * r + 1, 2 * r + 1))\n",
    "        x, y = np.indices((2 * r + 1, 2 * r + 1))\n",
    "        mask = (x - r)**2 + (y - r)**2 <= r**2\n",
    "        struct[mask] = 1\n",
    "        return struct.astype(np.bool)\n",
    "\n",
    "    def sphere(self, r):\n",
    "        struct = np.zeros((2 * r + 1, 2 * r + 1, 2 * r + 1))\n",
    "        x, y, z = np.indices((2 * r + 1, 2 * r + 1, 2 * r + 1))\n",
    "        mask = (x - r)**2 + (y - r)**2 + (z - r)**2 <= r**2\n",
    "        struct[mask] = 1\n",
    "        return struct.astype(np.bool)"
   ]
  },
  {
   "cell_type": "code",
   "execution_count": null,
   "metadata": {},
   "outputs": [],
   "source": [
    "def find_largest_component(filled_binary):\n",
    "    \"\"\"Find the largest connected component in the binary image.\n",
    "    This function labels the binary image and finds the summation\n",
    "    of pixels in the labeled regions. The regions with the max pixels\n",
    "    are chosen. Method adopted from https://tinyurl.com/y3m4qdg4\n",
    "    \n",
    "    filled_binary: Binary image without holes\n",
    "    \"\"\"\n",
    "    # Label the regions in the binary image.\n",
    "    labeled_im, num_of_regions =  label(filled_binary)\n",
    "    \n",
    "    # Sum up all pixels in the regions of the labeled binary.\n",
    "    sizes = sum(filled_binary, labeled_im, range(num_of_regions + 1))\n",
    "    \n",
    "    # Store indicies of the regions with the greatest\n",
    "    # number of pixels.\n",
    "    mask = sizes == max(sizes)\n",
    "    \n",
    "    largest_regions = mask[labeled_im]\n",
    "    \n",
    "    return largest_regions, num_of_regions"
   ]
  },
  {
   "cell_type": "markdown",
   "metadata": {},
   "source": [
    "#### Unsharp mask\n",
    "The following operation is conducted\n",
    "\n",
    "$ \\tilde{I}_L = I\\dot(1+5w) - 5w\\tilde{H}^L * I $"
   ]
  },
  {
   "cell_type": "code",
   "execution_count": null,
   "metadata": {},
   "outputs": [],
   "source": [
    "def unsharp_mask(img, sigma, w, length=1):\n",
    "    \"\"\"Perform unsharp masking on the grayscale image given.\n",
    "    This function performs the following calculation ...\n",
    "    Ibar_l = I(1+5w) - 5w x Hbar_l * I\n",
    "    \n",
    "    img: grayscale image\n",
    "    \"\"\"\n",
    "    # Convolve 1D filters twice to more efficiently\n",
    "    # perform the equvalent of a 3 by 3 filter.\n",
    "    Hbar_x = general_gaussian(M=2*length+1, p=1, sig=sigma)\n",
    "    Hbar_y = Hbar_x.reshape((1, -1))[0]\n",
    "    \n",
    "    smoothed = convolve1d(img, Hbar_x, mode='constant')\n",
    "    smoothed = convolve1d(smoothed, Hbar_y, mode='constant')\n",
    "    \n",
    "    # Perform scaling of the initial image.\n",
    "    img_plus = img.copy() * (1 + 5 * w)\n",
    "    \n",
    "    # Store indicies of the regions with the greatest\n",
    "    # number of pixels.\n",
    "    smooth_plus = smoothed * 5 * w\n",
    "    \n",
    "    return img_plus - smooth_plus"
   ]
  },
  {
   "cell_type": "code",
   "execution_count": null,
   "metadata": {},
   "outputs": [],
   "source": [
    "# file_loc = './fMRI_fMRI_(64x64)_FOV=2cm_TR=1s_20201109125634_4.nii'\n",
    "file_loc = '/Users/nowusu/Documents/axelson_test/bold_7sl/NIfTI/bold_7sl_fMRI_(96x96)_FOV=2cm_20210120155254_8.nii'\n",
    "# nii_files = glob(file_loc + '*.dcm')\n",
    "nii_obj = load(file_loc)\n",
    "nii_hdr = nii_obj.header\n",
    "\n",
    "im_data = nii_obj.get_fdata()"
   ]
  },
  {
   "cell_type": "code",
   "execution_count": null,
   "metadata": {},
   "outputs": [],
   "source": [
    "multi_slice_display(im_data[:,:,:,0])"
   ]
  },
  {
   "cell_type": "code",
   "execution_count": null,
   "metadata": {},
   "outputs": [],
   "source": [
    "usm_result = unsharp_mask(im_data[:,:,:,0], sigma=0.5, w=0.2)"
   ]
  },
  {
   "cell_type": "code",
   "execution_count": null,
   "metadata": {},
   "outputs": [],
   "source": [
    "multi_slice_display(usm_result)"
   ]
  },
  {
   "cell_type": "code",
   "execution_count": null,
   "metadata": {},
   "outputs": [],
   "source": [
    "usm_result[usm_result < 0] = 0"
   ]
  },
  {
   "cell_type": "code",
   "execution_count": null,
   "metadata": {},
   "outputs": [],
   "source": [
    "np.amax(usm_result[:,:,0])"
   ]
  },
  {
   "cell_type": "code",
   "execution_count": null,
   "metadata": {},
   "outputs": [],
   "source": [
    "multi_slice_display(usm_result)"
   ]
  },
  {
   "cell_type": "code",
   "execution_count": null,
   "metadata": {},
   "outputs": [],
   "source": [
    "sphere_stel = struct_el()\n",
    "disk_H = sphere_stel.shape['sphere'](5)\n",
    "footprints=generate_binary_structure(3, 1)"
   ]
  },
  {
   "cell_type": "code",
   "execution_count": null,
   "metadata": {},
   "outputs": [],
   "source": [
    "eroded_im1 = grey_erosion(usm_result, footprint=footprints, structure=disk_H)"
   ]
  },
  {
   "cell_type": "code",
   "execution_count": null,
   "metadata": {},
   "outputs": [],
   "source": [
    "multi_slice_display(eroded_im1)"
   ]
  },
  {
   "cell_type": "code",
   "execution_count": null,
   "metadata": {},
   "outputs": [],
   "source": [
    "m, n, o, t = im_data.shape\n",
    "threshold_im1 = np.ones((m, n, o), dtype='uint8')\n",
    "threshold_im1[eroded_im1 < 500] = 0"
   ]
  },
  {
   "cell_type": "markdown",
   "metadata": {},
   "source": [
    "### Hole-filling step"
   ]
  },
  {
   "cell_type": "code",
   "execution_count": null,
   "metadata": {},
   "outputs": [],
   "source": [
    "square_stel = struct_el()\n",
    "new_4neighbor = square_stel.shape['4neighbor'](1)\n",
    "# new_4neighbor"
   ]
  },
  {
   "cell_type": "code",
   "execution_count": null,
   "metadata": {},
   "outputs": [],
   "source": [
    "filled_holes = binary_fill_holes(threshold_im1, structure=new_4neighbor)\n",
    "# filled_holes = binary_fill_holes(threshold_im1)\n",
    "threshold1_complement = 1 - filled_holes"
   ]
  },
  {
   "cell_type": "code",
   "execution_count": null,
   "metadata": {},
   "outputs": [],
   "source": [
    "multi_slice_display(filled_holes)"
   ]
  },
  {
   "cell_type": "code",
   "execution_count": null,
   "metadata": {},
   "outputs": [],
   "source": [
    "multi_slice_display(threshold1_complement)"
   ]
  },
  {
   "cell_type": "markdown",
   "metadata": {},
   "source": [
    "### Finding the largest connected component\n",
    "code for this was adopted from ...\n",
    "https://tinyurl.com/y62zqely"
   ]
  },
  {
   "cell_type": "code",
   "execution_count": null,
   "metadata": {},
   "outputs": [],
   "source": [
    "largest_reg1, num_of_regions = find_largest_component(filled_holes)\n",
    "num_of_regions"
   ]
  },
  {
   "cell_type": "code",
   "execution_count": null,
   "metadata": {},
   "outputs": [],
   "source": [
    "multi_slice_display(largest_reg1)"
   ]
  },
  {
   "cell_type": "markdown",
   "metadata": {},
   "source": [
    "### Binary Opening Step"
   ]
  },
  {
   "cell_type": "code",
   "execution_count": null,
   "metadata": {},
   "outputs": [],
   "source": [
    "### Binary erosion of a binary union ###\n",
    "union_im = threshold1_complement | largest_reg1\n",
    "disk_H2 = sphere_stel.shape['sphere'](2)\n",
    "bin_erode = binary_erosion(union_im, structure=disk_H2, iterations=1)\n",
    "\n",
    "largest_reg2, num_of_regions2 = find_largest_component(bin_erode)\n",
    "num_of_regions2"
   ]
  },
  {
   "cell_type": "code",
   "execution_count": null,
   "metadata": {},
   "outputs": [],
   "source": [
    "### Binary dilation of a binary intersect ###\n",
    "disk_H3 = sphere_stel.shape['cube'](1)\n",
    "# im1 = np.where(largest_reg1 > 0, 1, 0)\n",
    "im1 = np.where(threshold1_complement < 1, 1, 0)\n",
    "im2 = np.where(bin_erode > 0, 1, 0)\n",
    "\n",
    "intersect = im1 & im2\n",
    "dilate_im2 = binary_dilation(intersect, disk_H3, iterations=2)"
   ]
  },
  {
   "cell_type": "code",
   "execution_count": null,
   "metadata": {},
   "outputs": [],
   "source": [
    "multi_slice_display(dilate_im2)"
   ]
  },
  {
   "cell_type": "code",
   "execution_count": null,
   "metadata": {},
   "outputs": [],
   "source": [
    "affine = nii_obj.affine\n",
    "hdr = nii_obj.header\n",
    "fmrIm = Nifti1Image(dilate_im2.astype(np.float32), affine)\n",
    "fmrIm.header.set_qform(hdr.get_qform())\n",
    "\n",
    "oldSform = hdr.get_sform(coded=True)\n",
    "fmrIm.header.set_sform(oldSform[0],oldSform[1])\n",
    "\n",
    "fmrIm.header.set_data_shape(hdr.get_data_shape())\n",
    "\n",
    "save(fmrIm, filename='/Users/nowusu/Documents/axelson_test/bold_7sl/NIfTI/fmri_mask.nii.gz')"
   ]
  }
 ],
 "metadata": {
  "kernelspec": {
   "display_name": "Python 3",
   "language": "python",
   "name": "python3"
  },
  "language_info": {
   "codemirror_mode": {
    "name": "ipython",
    "version": 3
   },
   "file_extension": ".py",
   "mimetype": "text/x-python",
   "name": "python",
   "nbconvert_exporter": "python",
   "pygments_lexer": "ipython3",
   "version": "3.7.7"
  }
 },
 "nbformat": 4,
 "nbformat_minor": 4
}
