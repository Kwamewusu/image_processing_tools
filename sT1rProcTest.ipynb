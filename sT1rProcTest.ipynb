{
 "cells": [
  {
   "cell_type": "code",
   "execution_count": 1,
   "metadata": {},
   "outputs": [],
   "source": [
    "#######################################################################\n",
    "# This script was written by Nana Owusu, it is meant to perform T1rho #\n",
    "# estimation from DICOM image files to NIFTI image files.             #\n",
    "#######################################################################\n",
    "\n",
    "import os, sys, re, fnmatch, tkinter\n",
    "import numpy as np\n",
    "import nibabel as nib\n",
    "import pydicom as pydcm\n",
    "import math as m\n",
    "import matplotlib.pyplot as plt\n",
    "# import matplotlib.image as mpimg\n",
    "from tkinter import filedialog"
   ]
  },
  {
   "cell_type": "markdown",
   "metadata": {},
   "source": [
    "## Section for sorting DICOM files"
   ]
  },
  {
   "cell_type": "code",
   "execution_count": 2,
   "metadata": {},
   "outputs": [],
   "source": [
    "# Function for picking DICOM file order\n",
    "def dcmItemize(convention,text):\n",
    "    # Regular expressions for naming convention of scanners #\n",
    "    if '3Tsem' in convention:\n",
    "        pattern = '\\w+\\.\\w+\\.\\w+\\.(\\d+)\\.(\\d+)\\.\\d+\\.\\d+\\.\\d+\\.\\d+\\.dcm'\n",
    "    elif '3Tge' in convention:\n",
    "         pattern = '\\w+\\.\\w+\\.\\w+\\.\\d+\\.\\d+\\.\\d+\\.\\d+\\-(\\d+)\\-(\\d+)\\-\\w+\\.dcm'\n",
    "    elif '7Th' in convention:\n",
    "         pattern = '\\w+\\.\\w+\\.\\w+\\.(\\d+)\\.(\\d+)\\.\\d+\\.\\d+\\-\\d+\\-\\d+\\-\\w+\\.dcm'\n",
    "    elif '7Ta' in convention:\n",
    "         pattern = '\\w+\\.\\w+\\.\\w+\\.(\\d+)\\.\\d+\\.\\d+\\.\\d+\\-\\d+\\-(\\d+)\\-\\w+\\.dcm'\n",
    "    \n",
    "    token = re.search(pattern, text)\n",
    "    return int(token.group(1)), int(token.group(2)) if token else '&'\n",
    "\n",
    "def dcmSort(imOrder,fileList):\n",
    "    idxNList = zip(imOrder, fileList)\n",
    "    sortedList = [x for x in idxNList]\n",
    "    sortedList.sort(key=lambda sortedList:sortedList[0])\n",
    "    return list(sortedList)\n",
    "\n",
    "def uigetdir(tsl2Disp):\n",
    "    # initialize tkinter object\n",
    "    main_win = tkinter.Tk()\n",
    "    main_win.geometry(\"500x500\")\n",
    "    \n",
    "    # starting from user's Documents folder \n",
    "    main_win.sourceFolder =  \\\n",
    "    filedialog.askdirectory(parent=main_win, initialdir= \"/Users/nowusu/scripts/\",\\\n",
    "                            title='Please select TSL {0} directory'.format(str(tsl2Disp)))\n",
    "\n",
    "    # run the GUI program\n",
    "    main_win.mainloop()\n",
    "    return main_win.sourceFolder\n",
    "\n",
    "#if len(sys.argv) != 5:\n",
    "#    sys.exit('Usage: python t1rProcessing.py <spinLockImLocation> minTSL maxTSL numTSL')\n",
    "\n",
    "#print 'Script Name: ', sys.argv[0]\n",
    "#print 'Input File: ', sys.argv[1]\n",
    "#print 'Minimum TSL: ', sys.argv[2]\n",
    "#print 'Maximum TSL: ', sys.argv[3]\n",
    "#print 'TSL Quantity: ', sys.argv[4]\n",
    "\n",
    "#min_TSL = sys.argv[2]\n",
    "#max_TSL = sys.argv[3]\n",
    "#tslPlayed = sys.argv[4]\n",
    "\n",
    "# Call GUI window for selection of DICOM directories\n",
    "# for storage of their full paths\n",
    "TSLs = [5,80]\n",
    "dcmList = []\n",
    "for i in range(len(TSLs)):\n",
    "    dcmList.append(uigetdir(TSLs[i]))"
   ]
  },
  {
   "cell_type": "code",
   "execution_count": 3,
   "metadata": {},
   "outputs": [],
   "source": [
    "# Create placeholder and fill list for image in acquisition\n",
    "tempList = []\n",
    "dcmFiles = []\n",
    "for j in range(len(dcmList)):\n",
    "    # provide the absolute path of the current directory\n",
    "    imLoc = dcmList[j] + '/'\n",
    "    # list all files in the DICOM directory\n",
    "    dirList = os.listdir(imLoc)\n",
    "    # store only DICOM files\n",
    "    filesInDir = fnmatch.filter(dirList,'*.dcm')\n",
    "\n",
    "    for i in range(len(filesInDir)):\n",
    "        tempList.append(dcmItemize('3Tge', filesInDir[i]))\n",
    "        dcmFiles.append(filesInDir[i])\n",
    "\n",
    "imsAcquired = len(tempList)\n",
    "seriesQuant = 0\n",
    "for j in range(len(tempList)-1):\n",
    "    order = tempList[0][0]\n",
    "    seriesQuant = 1\n",
    "    if tempList[j+1][0] > order:\n",
    "        seriesQuant += 1\n",
    "\n",
    "sortedFiles = dcmSort(tempList, dcmFiles)\n",
    "\n",
    "# Create multidimentional list for storted abs. paths\n",
    "# DICOM images\n",
    "numOfIms = m.floor(imsAcquired/seriesQuant)\n",
    "dcmFullPath = [[] for i in range(seriesQuant)]\n",
    "x = 0\n",
    "while x != seriesQuant:\n",
    "    for i,j in sortedFiles:\n",
    "        #fill array with dcm abs. paths\n",
    "        dcmFullPath[:][x].append(dcmList[x] + '/'+ j)\n",
    "        if i[1] == numOfIms:\n",
    "            x += 1\n",
    "            continue\n",
    "    \n",
    "# Garbage collection of unused variables\n",
    "del dcmList, dirList, tempList, dcmFiles"
   ]
  },
  {
   "cell_type": "markdown",
   "metadata": {},
   "source": [
    "## Load files"
   ]
  },
  {
   "cell_type": "code",
   "execution_count": 4,
   "metadata": {},
   "outputs": [],
   "source": [
    "def sliceSorter(image_data,seriesCount,vol,seriesFiles):\n",
    "    if \"NumberOfTemporalPositions\" not in image_data:\n",
    "        t = 0\n",
    "        while t != seriesCount:\n",
    "            for i,j in enumerate(seriesFiles[:][t]):\n",
    "                vol[:,:,i,t] = pydcm.dcmread(j).pixel_array\n",
    "            t += 1\n",
    "    else:\n",
    "        raise UserWarning(\"Please be sure that this is not functional data data.\\n\")\n",
    "\n",
    "# load a spin-lock image for info on scan parameters\n",
    "sampleIm = pydcm.dcmread(np.array(dcmFullPath).flat[0])\n",
    "seriesDate = sampleIm.SeriesDate\n",
    "\n",
    "# get voxel dimension info\n",
    "spaceBtwnSlice = float(sampleIm.SpacingBetweenSlices)\n",
    "pixSpacingX = float(sampleIm.PixelSpacing[0])\n",
    "pixSpacingY = float(sampleIm.PixelSpacing[1])\n",
    "\n",
    "# get image data and dimension info \n",
    "imgData = sampleIm.pixel_array\n",
    "matrix_size = np.shape(imgData)\n",
    "\n",
    "# create placeholder for spin-lock volume array\n",
    "if \"NumberOfTemporalPositions\" not in sampleIm:\n",
    "    numOfIms = m.floor(imsAcquired/seriesQuant)\n",
    "    tslVol = np.zeros((matrix_size[0], matrix_size[1], numOfIms, seriesQuant), dtype='float32')\n",
    "\n",
    "sliceSorter(sampleIm,seriesQuant, tslVol, dcmFullPath)"
   ]
  },
  {
   "cell_type": "markdown",
   "metadata": {},
   "source": [
    "## Save sorted spin-lock images"
   ]
  },
  {
   "cell_type": "code",
   "execution_count": 5,
   "metadata": {},
   "outputs": [],
   "source": [
    "# DICOM to NIfTI conversion info\n",
    "def dcm2niConvert(refIm, zoomInfo, imToSave, saveAs):\n",
    "    ''' The affine matrix produced by this function was taken from \n",
    "    https://nipy.org/nibabel/dicom/dicom_orientation.html#dicom-slice-affine\n",
    "    '''\n",
    "    # Make F array from DICOM orientation page\n",
    "    F = np.fliplr(np.reshape(refIm.ImageOrientationPatient, (2, 3)).T)\n",
    "#     print('F: {0}\\n\\n'.format(F))\n",
    "    rotations = np.eye(3)\n",
    "#     print('rotations1: {0}\\n'.format(rotations))\n",
    "    rotations[:, :2] = F\n",
    "#     print('rotations2: {0}\\n\\n'.format(rotations))\n",
    "\n",
    "    # Third direction cosine from cross-product of first two\n",
    "    rotations[:, 2] = np.cross(F[:, 0], F[:, 1])\n",
    "#     print('rotations3: {0}\\n\\n'.format(rotations))\n",
    "\n",
    "    # Add the zooms\n",
    "    zooms = np.diag(zoomInfo)\n",
    "#     print('zooms: {0}\\n\\n'.format(zooms))\n",
    "\n",
    "    # Make the affine\n",
    "    affine = np.diag([0., 0, 0, 1])\n",
    "#     print('affine1: {0}\\n'.format(affine))\n",
    "    affine[:3, :3] = rotations.dot(zooms)\n",
    "#     print('affine2: {0}\\n'.format(affine))\n",
    "    affine[:3, 3] = refIm.ImagePositionPatient\n",
    "#     print('affine3: {0}'.format(affine))\n",
    "\n",
    "    # Make NIfTI image object and save it\n",
    "    tslIm = nib.Nifti1Image(imToSave, affine)\n",
    "    nib.save(tslIm, saveAs)\n",
    "\n",
    "pixOrient = [pixSpacingX, pixSpacingY] + [spaceBtwnSlice]\n",
    "outputName = sampleIm[0x19,0x109e].value + \\\n",
    "            '_TSLs' + str(TSLs) + 'ms.nii'\n",
    "# tslVol = tslVol[:,::-1,:,:]\n",
    "# dcm2niConvert(sampleIm, pixOrient, tslVol, outputName)\n",
    "# del imgData, sortedFiles"
   ]
  },
  {
   "cell_type": "markdown",
   "metadata": {},
   "source": [
    "## Calculate T1rho maps"
   ]
  },
  {
   "cell_type": "markdown",
   "metadata": {},
   "source": [
    "### Functions for calculating T1rho and masking"
   ]
  },
  {
   "cell_type": "code",
   "execution_count": 6,
   "metadata": {},
   "outputs": [],
   "source": [
    "def maskProg(unMasked,thresh,case):\n",
    "    imgDim = unMasked.shape\n",
    "    m, n, numOfSlices = imgDim[0], imgDim[1], imgDim[2]\n",
    "    \n",
    "    meanVol = np.zeros((m, n, numOfSlices))\n",
    "    mask = np.zeros((m, n, numOfSlices))\n",
    "    if case == 0:\n",
    "        for l in range(numOfSlices):\n",
    "            avgThruT = np.mean(unMasked[:,:,l,0], axis=2)\n",
    "            avgVal = [mu for mu in avgThruT]\n",
    "            meanVol[:,:,l] = avgVal\n",
    "        brainPix = meanVol > thresh\n",
    "        mask[brainPix] = 1\n",
    "    elif case == 1:\n",
    "        buffer = np.zeros((m,n))\n",
    "        for l in range(numOfSlices):\n",
    "            maskBuffer = np.squeeze(unMasked[:,:,l,0])\n",
    "            buffer[maskBuffer > 2.5*np.median(maskBuffer.ravel('F'))] = 1\n",
    "            mask[:,:,l] = buffer\n",
    "        del buffer, maskBuffer\n",
    "    \n",
    "    del m, n, numOfSlices, imgDim\n",
    "    return [meanVol, mask]\n",
    "\n",
    "def productFunc(mat1,mat2):\n",
    "    prod = np.multiply(mat1,mat2)\n",
    "    return prod\n",
    "\n",
    "def applyMask(img, mask2Use):\n",
    "    dims1 = np.ndim(img)\n",
    "    dims2 = np.ndim(np.squeeze(mask2Use))\n",
    "    matSize = len(mask2Use.flatten('F'))\n",
    "    \n",
    "    if dims1 > dims2:\n",
    "        volProd = np.zeros((img.shape))\n",
    "        \n",
    "        doProduct = np.vectorize(productFunc,otypes=[np.float],cache=False)        \n",
    "        for idx in range(img.shape[3]):\n",
    "            volProd[:,:,:,idx] = doProduct(img[:,:,:,idx], mask2Use)\n",
    "    else:\n",
    "        volProd = np.multiply(img, mask2Use)\n",
    "        \n",
    "    return volProd\n",
    "\n",
    "def t1rhoCalc(non0Len, indices, TSL, tslIms, t1rVolBuffer, twoTSL):\n",
    "    #np.seterr(divide='warn', invalid='warn')\n",
    "    if twoTSL == 1:\n",
    "        sigOut = np.array(np.zeros((2,non0Len)))\n",
    "        dTSL = TSL[1] - TSL[0]\n",
    "        sigOut[0,:] = tslIms[:,:,0].ravel('A').take(indices)\n",
    "        sigOut[1,:] = tslIms[:,:,1].ravel('A').take(indices)\n",
    "        t1rVolBuffer.ravel(order='A')[indices] = \\\n",
    "            -dTSL/np.log(np.true_divide(sigOut[1,:],sigOut[0,:],order='A'),order='A')\n",
    "    else:\n",
    "        for ni in range(non0Len):\n",
    "            for i in range(len(TSLs)):\n",
    "                sigOut = tslIms(np.add(indices[ni], indexOne[0:tslPlayed]))\n",
    "            P = np.polyfit(TSLs, np.log(sigOut), 1)\n",
    "            t1rVolBuffer.ravel(order='A')[indices[ni]] = -1/P[0]\n",
    "    return t1rVolBuffer"
   ]
  },
  {
   "cell_type": "markdown",
   "metadata": {},
   "source": [
    "### Calculation"
   ]
  },
  {
   "cell_type": "code",
   "execution_count": 7,
   "metadata": {},
   "outputs": [],
   "source": [
    "matrix_size = np.shape(tslVol)\n",
    "tslPlayed = len(TSLs)\n",
    "\n",
    "mean , t1rMask = maskProg(tslVol,1250,1)\n",
    "maskedTslBuffer = applyMask(tslVol,t1rMask)\n",
    "del mean"
   ]
  },
  {
   "cell_type": "code",
   "execution_count": 8,
   "metadata": {},
   "outputs": [
    {
     "name": "stderr",
     "output_type": "stream",
     "text": [
      "/anaconda3/lib/python3.7/site-packages/ipykernel_launcher.py:53: RuntimeWarning: divide by zero encountered in true_divide\n"
     ]
    }
   ],
   "source": [
    "if \"NumberOfTemporalPositions\" not in sampleIm:\n",
    "    Nx, Ny, Ns = matrix_size[0], matrix_size[1], numOfIms\n",
    "    t1rMap = np.zeros((Nx, Ny, Ns), dtype='float32')\n",
    "    ultraEfficient = 0\n",
    "    \n",
    "    for ns in range(numOfIms):\n",
    "        # work with smaller volumes for increased performance\n",
    "        volBuffer = maskedTslBuffer[:,:,ns,:].copy('F') #take first set of TSLs played\n",
    "        maskedVolBuffer = np.squeeze(maskedTslBuffer[:,:,ns,0].copy('F'))\n",
    "        t1rMapBuffer = np.array(np.zeros((Nx, Ny), dtype='float32', order='F'))\n",
    "        nonZeroIndices = np.array(np.nonzero(maskedVolBuffer.ravel('F')))\n",
    "        dim_nonzero = len(nonZeroIndices.T)\n",
    "        if tslPlayed == 2:\n",
    "            ultraEfficient = 1\n",
    "\n",
    "        t1rMapBuffer = t1rhoCalc(dim_nonzero, nonZeroIndices, TSLs, volBuffer, t1rMapBuffer, ultraEfficient)\n",
    "        \n",
    "        t1rMap[:,:,ns] = t1rMapBuffer\n",
    "        \n",
    "    t1rMap[t1rMap < 0] = 0\n",
    "    t1rMap[np.isinf(t1rMap)] = 0\n",
    "    t1rMap[t1rMap > 200] = 200\n",
    "    "
   ]
  },
  {
   "cell_type": "markdown",
   "metadata": {},
   "source": [
    "## Save T1rho map"
   ]
  },
  {
   "cell_type": "code",
   "execution_count": 10,
   "metadata": {},
   "outputs": [],
   "source": [
    "dcm2niConvert(sampleIm, pixOrient, t1rMap, 't1rIm_efgre_TR14ms')\n",
    "# dcm2niConvert(sampleIm, pixOrient, t1rMap, 't1rIm_3dfse_TR16' + str(seriesDate))"
   ]
  },
  {
   "cell_type": "markdown",
   "metadata": {},
   "source": [
    "## Check images"
   ]
  },
  {
   "cell_type": "code",
   "execution_count": 9,
   "metadata": {},
   "outputs": [
    {
     "data": {
      "image/png": "[encoded data removed]",
      "text/plain": [
       "<Figure size 1008x1008 with 4 Axes>"
      ]
     },
     "metadata": {
      "needs_background": "light"
     },
     "output_type": "display_data"
    }
   ],
   "source": [
    "fig, (t1rIm, tslIm1, tslIm2) = plt.subplots(1,3, figsize=(14,14))\n",
    "im1 = tslIm1.imshow(maskedTslBuffer[:,:,40,0])\n",
    "im1.set_cmap('jet')\n",
    "tslIm1.axis('off')\n",
    "tslIm1.set_title('TSL '+str(TSLs[0]))\n",
    "\n",
    "im2 = tslIm2.imshow(maskedTslBuffer[:,:,40,1])\n",
    "im2.set_cmap('jet')\n",
    "tslIm2.axis('off')\n",
    "tslIm2.set_title('TSL '+str(TSLs[1]))\n",
    "\n",
    "im3 = t1rIm.imshow(t1rMap[:,:,40])\n",
    "im3.set_cmap('jet')\n",
    "t1rIm.axis('off')\n",
    "t1rIm.set_title('T1rho Map')\n",
    "\n",
    "fig.subplots_adjust(right=0.8)\n",
    "cbar_ax = fig.add_axes([0.812, 0.393, 0.025, 0.22])\n",
    "fig.colorbar(im3, cax=cbar_ax)\n",
    "# fig.axes[1].set_ylabel(r'\\textbf{T1$\\rho$ (ms)}', fontsize=25)\n",
    "fig.axes[3].yaxis.set_tick_params(labelsize=20)\n",
    "\n",
    "plt.subplots_adjust(wspace=0.05)\n",
    "plt.show()"
   ]
  }
 ],
 "metadata": {
  "kernelspec": {
   "display_name": "Python 3",
   "language": "python",
   "name": "python3"
  },
  "language_info": {
   "codemirror_mode": {
    "name": "ipython",
    "version": 3
   },
   "file_extension": ".py",
   "mimetype": "text/x-python",
   "name": "python",
   "nbconvert_exporter": "python",
   "pygments_lexer": "ipython3",
   "version": "3.7.1"
  }
 },
 "nbformat": 4,
 "nbformat_minor": 2
}
